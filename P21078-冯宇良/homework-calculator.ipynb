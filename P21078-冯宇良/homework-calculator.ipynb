{
 "cells": [
  {
   "cell_type": "code",
   "execution_count": null,
   "metadata": {},
   "outputs": [],
   "source": [
    "while True:\n",
    "    a = int(input(''))\n",
    "    b = input('请输入运算符(+/-/*//)')\n",
    "    c = int(input(''))\n",
    "    if b == '+':\n",
    "        print('{}+{}={}'.format(a,c,a+c))\n",
    "    elif b == '-':\n",
    "        print('{}-{}={}'.format(a,c,a-c))\n",
    "    elif b =='*':\n",
    "        print('{}*{}={}'.format(a,c,a*c))\n",
    "    elif b =='/':\n",
    "        if c == 0:\n",
    "            print('0不能作为除数,请重新输入')\n",
    "            continue\n",
    "        else:\n",
    "            print('{}/{}={}'.format(a,c,a/c))\n",
    "    d = input('是否继续（y/n）')\n",
    "    if d == 'n':\n",
    "        break"
   ]
  }
 ],
 "metadata": {
  "kernelspec": {
   "display_name": "Python 3",
   "language": "python",
   "name": "python3"
  },
  "language_info": {
   "codemirror_mode": {
    "name": "ipython",
    "version": 3
   },
   "file_extension": ".py",
   "mimetype": "text/x-python",
   "name": "python",
   "nbconvert_exporter": "python",
   "pygments_lexer": "ipython3",
   "version": "3.6.6"
  }
 },
 "nbformat": 4,
 "nbformat_minor": 2
}
