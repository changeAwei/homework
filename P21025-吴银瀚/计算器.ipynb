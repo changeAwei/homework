{
 "cells": [
  {
   "cell_type": "code",
   "execution_count": null,
   "metadata": {},
   "outputs": [
    {
     "name": "stdout",
     "output_type": "stream",
     "text": [
      "please input numberA:3\n",
      "input + - * /:*\n",
      "please input numberB:3\n",
      "9\n",
      "please input numberA:3\n",
      "input + - * /:+\n",
      "please input numberB:5\n",
      "8\n",
      "please input numberA:33\n",
      "input + - * /:+\n",
      "please input numberB:33\n",
      "66\n",
      "please input numberA:33\n",
      "input + - * /:*\n",
      "please input numberB:33\n",
      "1089\n"
     ]
    }
   ],
   "source": [
    "# 实现简易计算器 运行后能让用户输入下一个数字 能提示操作符 能打印计算结果 并且在不退出程序前提下 可以允许用户输入新的一组数据\n",
    "#i = 1\n",
    "while True:\n",
    "    a = int(input(\"please input numberA:\"))\n",
    "    x = input(\"input + - * /:\")\n",
    "    b = int(input(\"please input numberB:\"))\n",
    "    if x == \"+\":\n",
    "        print(a + b)\n",
    "    elif x == \"-\":\n",
    "        print(a - b)\n",
    "    elif x == \"*\":\n",
    "        print(a * b)\n",
    "    elif x == \"/\":\n",
    "        print(a / b)\n",
    "#该题目本人解法还有改进空间例如 是否为空 是否输入错误能重新输入  \n"
   ]
  },
  {
   "cell_type": "code",
   "execution_count": 11,
   "metadata": {},
   "outputs": [],
   "source": [
    "\n",
    "\n",
    "\n",
    "        \n",
    "       \n",
    "    \n"
   ]
  },
  {
   "cell_type": "code",
   "execution_count": null,
   "metadata": {},
   "outputs": [],
   "source": []
  },
  {
   "cell_type": "code",
   "execution_count": null,
   "metadata": {},
   "outputs": [],
   "source": []
  },
  {
   "cell_type": "code",
   "execution_count": null,
   "metadata": {},
   "outputs": [],
   "source": []
  },
  {
   "cell_type": "code",
   "execution_count": null,
   "metadata": {},
   "outputs": [],
   "source": []
  },
  {
   "cell_type": "code",
   "execution_count": null,
   "metadata": {},
   "outputs": [],
   "source": []
  },
  {
   "cell_type": "code",
   "execution_count": null,
   "metadata": {},
   "outputs": [],
   "source": []
  },
  {
   "cell_type": "code",
   "execution_count": null,
   "metadata": {},
   "outputs": [],
   "source": []
  },
  {
   "cell_type": "code",
   "execution_count": null,
   "metadata": {},
   "outputs": [],
   "source": []
  },
  {
   "cell_type": "code",
   "execution_count": null,
   "metadata": {},
   "outputs": [],
   "source": []
  },
  {
   "cell_type": "code",
   "execution_count": null,
   "metadata": {},
   "outputs": [],
   "source": []
  }
 ],
 "metadata": {
  "kernelspec": {
   "display_name": "Python 3",
   "language": "python",
   "name": "python3"
  }
 },
 "nbformat": 4,
 "nbformat_minor": 2
}
