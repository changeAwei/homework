{
 "cells": [
  {
   "cell_type": "code",
   "execution_count": 174,
   "metadata": {},
   "outputs": [
    {
     "name": "stdout",
     "output_type": "stream",
     "text": [
      "['post', 'get', 'post', 'get', 'get']\n",
      "post 2\n",
      "get 3\n"
     ]
    }
   ],
   "source": [
    "#有一个字符串变量logs 请统计出每种请求类型的数量（提示：空格分割的第二列是请求类型）得到如下输出 POST 2 GET 3 \n",
    "logs = '''\n",
    "111.30.144.7 \"POST /mock/login/?t=GET HTTP/1.1\" 200\n",
    "111.30.147.7 \"Get /mock/users/?t=POST HTTP/1.1\" 200\n",
    "111.13.100.92 \"Post /mock/login/ HTTP/1.1\" 200\n",
    "223.88.60.88 \"GET /mock/users/?t=POST HTTP/1.1\" 200\n",
    "111.30.144.7 \"GET /mock/users/HTTP/1,1\" 200\n",
    "'''\n",
    "l= logs.splitlines()\n",
    "sum = []\n",
    "for i in range(1,6):\n",
    "    x = l[int(i)].split()\n",
    "    c = x[1].split('\"')[1]\n",
    "    sum.append(c.lower())\n",
    "    i += 1   \n",
    "print(sum)\n",
    "counter=0\n",
    "counter2=0\n",
    "for z in sum:\n",
    "    if z == 'post':\n",
    "        counter = counter + 1\n",
    "    elif z == 'get':\n",
    "        counter2 = counter2 + 1       \n",
    "print(\"post\",counter)\n",
    "print(\"get\",counter2)\n",
    "    \n",
    "\n",
    "\n",
    "\n",
    "\n",
    "      "
   ]
  },
  {
   "cell_type": "code",
   "execution_count": null,
   "metadata": {},
   "outputs": [],
   "source": []
  },
  {
   "cell_type": "code",
   "execution_count": null,
   "metadata": {},
   "outputs": [],
   "source": []
  },
  {
   "cell_type": "code",
   "execution_count": null,
   "metadata": {},
   "outputs": [],
   "source": []
  }
 ],
 "metadata": {
  "kernelspec": {
   "display_name": "Python 3",
   "language": "python",
   "name": "python3"
  },
  "language_info": {
   "codemirror_mode": {
    "name": "ipython",
    "version": 3
   },
   "file_extension": ".py",
   "mimetype": "text/x-python",
   "name": "python",
   "nbconvert_exporter": "python",
   "pygments_lexer": "ipython3",
   "version": "3.6.6"
  }
 },
 "nbformat": 4,
 "nbformat_minor": 2
}
